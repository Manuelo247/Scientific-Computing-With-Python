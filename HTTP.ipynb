{
 "cells": [
  {
   "cell_type": "markdown",
   "metadata": {},
   "source": [
    "# Socket"
   ]
  },
  {
   "cell_type": "markdown",
   "metadata": {},
   "source": [
    "## Inicializar Socket"
   ]
  },
  {
   "cell_type": "markdown",
   "metadata": {},
   "source": [
    "Los sockets nos sirven para leer datos desde direcciones web"
   ]
  },
  {
   "cell_type": "code",
   "execution_count": 1,
   "metadata": {},
   "outputs": [
    {
     "name": "stdout",
     "output_type": "stream",
     "text": [
      "HTTP/1.1 200 OK\n",
      "Date: Thu, 31 Aug 2023 23:50:44 GMT\n",
      "Server: Apache/2.4.18 (Ubuntu)\n",
      "Last-Modified: Sat, 13 May 2017 11:22:22 GMT\n",
      "ETag: \"a7-54f6609245537\"\n",
      "Accept-Ranges: bytes\n",
      "Content-Length: 167\n",
      "Cache-Control: max-age=0, no-cache, no-store, must-revalidate\n",
      "Pragma: no-cache\n",
      "Expires: Wed, 11 Jan 1984 05:00:00 GMT\n",
      "Connection: close\n",
      "Content-Type: text/plain\n",
      "\n",
      "But soft what light through yonder window breaks\n",
      "It is the east and Juliet is the sun\n",
      "Arise fair sun and kill the envious moon\n",
      "Who is already s\n",
      "ick and pale with grief\n",
      "\n"
     ]
    }
   ],
   "source": [
    "import socket\n",
    "\n",
    "mysock = socket.socket(socket.AF_INET, socket.SOCK_STREAM) # Crea el socket\n",
    "mysock.connect(('data.pr4e.org', 80)) # Conecta el socket a una direccion\n",
    "cmd = 'GET http://data.pr4e.org/romeo.txt HTTP/1.0\\r\\n\\r\\n'.encode() # Manda un comando a esa direccion web y lo codifica en UNICODE\n",
    "mysock.send(cmd)\n",
    "\n",
    "while True:\n",
    "    data = mysock.recv(512)\n",
    "    if len(data) < 1:\n",
    "        break\n",
    "    print(data.decode())\n",
    "mysock.close()"
   ]
  },
  {
   "cell_type": "markdown",
   "metadata": {},
   "source": [
    "# urllib"
   ]
  },
  {
   "cell_type": "markdown",
   "metadata": {},
   "source": [
    "La libreria urllib no es mas que una libreria que implementa y simplifica toda la libreria de sockets, para que esta sea mas facil de usar y comunicarse con direcciones web"
   ]
  },
  {
   "cell_type": "markdown",
   "metadata": {},
   "source": [
    "## Codigo equivalente de Sockets en urllib"
   ]
  },
  {
   "cell_type": "code",
   "execution_count": 2,
   "metadata": {},
   "outputs": [
    {
     "name": "stdout",
     "output_type": "stream",
     "text": [
      "But soft what light through yonder window breaks\n",
      "It is the east and Juliet is the sun\n",
      "Arise fair sun and kill the envious moon\n",
      "Who is already sick and pale with grief\n"
     ]
    }
   ],
   "source": [
    "import urllib\n",
    "\n",
    "fhand = urllib.request.urlopen('http://data.pr4e.org/romeo.txt') # Regresa lo que haya en esa direccion URL pero codificado\n",
    "for line in fhand:\n",
    "    print(line.decode().strip()) # Imprime y decodifica la informacion de la URL\n"
   ]
  },
  {
   "cell_type": "markdown",
   "metadata": {},
   "source": [
    "## Trata tu respuesta como un archivo"
   ]
  },
  {
   "cell_type": "markdown",
   "metadata": {},
   "source": [
    "Podras usar tu respuesta como un archivo comun y corriente, solo no olvides de siempre decodificar los datos"
   ]
  },
  {
   "cell_type": "code",
   "execution_count": 3,
   "metadata": {},
   "outputs": [
    {
     "name": "stdout",
     "output_type": "stream",
     "text": [
      "{'But': 1, 'soft': 1, 'what': 1, 'light': 1, 'through': 1, 'yonder': 1, 'window': 1, 'breaks': 1, 'It': 1, 'is': 3, 'the': 3, 'east': 1, 'and': 3, 'Juliet': 1, 'sun': 2, 'Arise': 1, 'fair': 1, 'kill': 1, 'envious': 1, 'moon': 1, 'Who': 1, 'already': 1, 'sick': 1, 'pale': 1, 'with': 1, 'grief': 1}\n"
     ]
    }
   ],
   "source": [
    "import urllib\n",
    "\n",
    "fhand = urllib.request.urlopen('http://data.pr4e.org/romeo.txt') # Regresa lo que haya en esa direccion URL pero codificado\n",
    "\n",
    "count = dict()\n",
    "for line in fhand:\n",
    "    words = line.decode().split() # Imprime y decodifica la informacion de la URL\n",
    "    for word in words:\n",
    "        count[word] = count.get(word, 0) + 1\n",
    "        \n",
    "print(count)"
   ]
  },
  {
   "cell_type": "markdown",
   "metadata": {},
   "source": [
    "# BeautifulSoup"
   ]
  },
  {
   "cell_type": "markdown",
   "metadata": {},
   "source": [
    "Leer texto es facil pero leer codigos HTML puede ser mas complicado, por lo cual tendremos a nuestra disposicion una libreria que nos facilitara esta lectura"
   ]
  },
  {
   "cell_type": "code",
   "execution_count": 20,
   "metadata": {},
   "outputs": [
    {
     "name": "stdout",
     "output_type": "stream",
     "text": [
      "https://www.coursera.org/\n",
      "https://www.coursera.org/business?utm_content=corp-to-home-for-enterprise&utm_campaign=website&utm_medium=coursera&utm_source=header&utm_term=b-out\n",
      "https://www.coursera.org/campus?utm_content=corp-to-landing-for-campus&utm_campaign=website&utm_medium=coursera&utm_source=header&utm_term=b-out\n",
      "https://www.coursera.org/government?utm_content=corp-to-landing-for-government&utm_campaign=website&utm_medium=coursera&utm_source=header&utm_term=b-out\n",
      "/\n",
      "/degrees\n",
      "/mastertrack\n",
      "/certificates/learn\n",
      "/career-academy/?trk_ref=globalnav\n",
      "/?authMode=login\n",
      "/?authMode=signup\n",
      "https://www.coursera.org/coding-challenges?utm_medium=coursera&utm_source=bluebanner&utm_campaign=coding\n",
      "/business?utm_campaign=website&utm_content=banner-from-B2C-home-try-business&utm_medium=coursera&utm_source=enterprise\n",
      "/about/partners\n",
      "/illinois\n",
      "/duke\n",
      "/google\n",
      "/umich\n",
      "/ibm\n",
      "/imperial\n",
      "/stanford\n",
      "/penn\n",
      "/career-academy?trk_ref=camodule\n",
      "/professional-certificates/google-project-management?trk_ref=camodule\n",
      "/professional-certificates/ibm-project-manager?trk_ref=camodule\n",
      "/professional-certificates?trk_ref=camodule\n",
      "https://www.coursera.org/degrees/bachelor-of-science-computer-science-london\n",
      "https://www.coursera.org/degrees/maestria-inteligencia-artificial-uniandes\n",
      "https://www.coursera.org/degrees/maestria-ingenieria-software-uniandes\n",
      "https://www.coursera.org/degrees/magister-en-ciencia-de-datos-ucchile\n",
      "https://www.coursera.org/degrees/maestria-ciencias-computacion-pucp\n",
      "https://www.coursera.org/degrees/imba\n",
      "https://www.coursera.org/degrees/magister-en-analitica-para-los-negocios-ucchile\n",
      "https://www.coursera.org/degrees/maestria-analitica-de-datos-uniandes\n",
      "https://www.coursera.org/degrees/msc-data-science-ul\n",
      "https://www.coursera.org/degrees/mas-engineering-berkeley\n",
      "https://www.coursera.org/degrees/msm-digital-transformation-healthcare-northeastern\n",
      "https://www.coursera.org/degrees/magister-salud-publica-global-ucchile\n",
      "https://www.coursera.org/degrees\n",
      "https://www.coursera.org/mastertrack/supply-chain-excellence-rutgers\n",
      "https://www.coursera.org/mastertrack/sustainability-development-umich\n",
      "https://www.coursera.org/mastertrack/construction-engineering-management-umich\n",
      "https://www.coursera.org/mastertrack/social-work-umich\n",
      "https://www.coursera.org/mastertrack/instructional-design-illinois\n",
      "https://www.coursera.org/mastertrack/big-data-asu\n",
      "https://www.coursera.org/mastertrack/software-engineering-asu\n",
      "https://www.coursera.org/mastertrack/administracion-de-empresas-palermo\n",
      "https://www.coursera.org/mastertrack/introduccion-inteligencia-artificial-uniandes\n",
      "https://www.coursera.org/mastertrack/principios-ingenieria-software-automatizada-agil-uniandes\n",
      "https://www.coursera.org/mastertrack/metodologias-agiles-desarrollo-software-uniandes\n",
      "https://www.coursera.org/mastertrack/ux-design-minnesota\n",
      "https://www.coursera.org/mastertrack/finance-analysis-modeling-macquarie\n",
      "https://www.coursera.org/mastertrack/global-leadership-hr-management-macquarie\n",
      "https://www.coursera.org/mastertrack/modelos-analiticos-toma-decisiones-ucchile\n",
      "https://www.coursera.org/mastertrack/cybersecurity-asu\n",
      "https://www.coursera.org/mastertrack/finanzas-corporativas-ucchile\n",
      "https://www.coursera.org/mastertrack/analitica-datos-visualizacion-prediccion-toma-decisiones-uniandes\n",
      "https://www.coursera.org/mastertrack/ai-machine-learning-asu\n",
      "https://www.coursera.org/mastertrack/bases-salud-publica-ucchile\n",
      "https://www.coursera.org/mastertrack/toma-decisiones-basadas-datos-ucchile\n",
      "https://www.coursera.org/mastertrack/gestion-politicas-salud-publica-ucchile\n",
      "https://www.coursera.org/mastertrack/introduccion-ciencia-datos-ucchile\n",
      "https://www.coursera.org/mastertrack/gestion-inversiones-ucchile\n",
      "/mastertrack\n",
      "https://www.coursera.org/certificates/business-essentials-ie\n",
      "https://www.coursera.org/certificates/digital-transformation-dartmouth\n",
      "https://www.coursera.org/certificates/leading-innovation-with-creativity-hec\n",
      "https://www.coursera.org/certificates/innovation-management-entrepreneurship-hec\n",
      "https://www.coursera.org/certificates/decision-making-using-game-theory-iimahmedabad\n",
      "https://www.coursera.org/certificates/robotics-mechatronics-iitguwahati\n",
      "https://www.coursera.org/certificates/digital-manufacturing-iitguwahati\n",
      "https://www.coursera.org/certificates/power-electronics-motors-ev-iitbombay\n",
      "https://www.coursera.org/certificates/strategic-supply-chain-management-ai-iitr\n",
      "https://www.coursera.org/certificates/machine-learning-finance-iitr\n",
      "https://www.coursera.org/certificates/cloud-computing-applications-iitguwahati\n",
      "https://www.coursera.org/certificates/data-science-machine-learning-iitr\n",
      "https://www.coursera.org/certificates/deep-learning-computer-vision-xr-iitguwahati\n",
      "https://www.coursera.org/certificates/five-g-iot-iitr\n",
      "https://www.coursera.org/certificates/trust-based-leadership-hec\n",
      "https://www.coursera.org/certificates/pg-dip-cyber-security-london\n",
      "https://www.coursera.org/certificates/pg-cert-cyber-security-london\n",
      "https://www.coursera.org/certificates/strategic-leadership-isb\n",
      "https://www.coursera.org/certificates/vlsi-design-iitr\n",
      "https://www.coursera.org/certificates/elephants-cheetahs-operations-systems-iimahmedabad\n",
      "https://www.coursera.org/certificates/graduate-certificate-computer-science-london\n",
      "https://www.coursera.org/certificates/natural-language-processing-iitguwahati\n",
      "https://www.coursera.org/certificates/investment-management-isb\n",
      "https://www.coursera.org/certificates/digital-transformation-iitbombay\n",
      "https://www.coursera.org/certificates/graduate-diploma-computer-science-london\n",
      "https://www.coursera.org/certificates/ux-design-human-computer-interaction-iitguwahati\n",
      "https://www.coursera.org/certificates/learn\n",
      "/professional-certificates/microsoft-power-bi-data-analyst\n",
      "/learn/generative-ai-with-llms\n",
      "/learn/prompt-engineering\n",
      "/professional-certificates/ibm-it-project-manager\n",
      "/professional-certificates/microsoft-cybersecurity-analyst\n",
      "/professional-certificates/google-advanced-data-analytics\n",
      "/specializations/mathematics-for-machine-learning-and-data-science\n",
      "/professional-certificates/ibm-backend-development\n",
      "/professional-certificates/akamai-network-engineering\n",
      "/professional-certificates/google-business-intelligence\n",
      "/learn/the-science-of-well-being-for-teens\n",
      "/professional-certificates/akamai-customer-consulting-and-support\n",
      "/browse\n",
      "/learn/the-science-of-well-being-for-teens\n",
      "/learn/what-is-the-metaverse\n",
      "/learn/learning-how-to-learn\n",
      "/learn/careerdevelopment\n",
      "/learn/negotiation-skills\n",
      "/learn/financial-markets-global\n",
      "/learn/learn-chinese\n",
      "/learn/introduction-psychology\n",
      "/learn/childnutrition\n",
      "/learn/philosophy\n",
      "/learn/food-and-health\n",
      "/learn/learn-korean\n",
      "/courses?query=free\n",
      "/browse/data-science\n",
      "/browse/business\n",
      "/browse/computer-science\n",
      "/browse/life-sciences\n",
      "/browse/social-sciences\n",
      "/browse/personal-development\n",
      "/browse/arts-and-humanities\n",
      "/browse/physical-science-and-engineering\n",
      "/browse/language-learning\n",
      "/browse/information-technology\n",
      "/browse/math-and-logic\n",
      "https://about.coursera.org/press/wp-content/uploads/2020/09/Coursera-Impact-Report-2020.pdf\n",
      "/business?utm_campaign=website&utm_content=banner-from-B2C-home-for-enterprise&utm_medium=coursera&utm_source=enterprise\n",
      "/business/teams?utm_campaign=website&utm_content=banner-from-B2C-home-for-teams&utm_medium=coursera&utm_source=enterprise\n",
      "https://www.coursera.org/collections/new-courses-on-coursera\n",
      "https://www.coursera.org/courses?query=free\n",
      "https://www.coursera.org/courses?query=artificial%20intelligence\n",
      "https://www.coursera.org/courses?query=chatgpt\n",
      "https://www.coursera.org/courses?query=cybersecurity\n",
      "https://www.coursera.org/browse/data-science\n",
      "https://www.coursera.org/courses?query=microsoft%20excel\n",
      "https://www.coursera.org/learn/generative-ai-with-llms\n",
      "https://www.coursera.org/learn/prompt-engineering\n",
      "https://www.coursera.org/courses?query=python\n",
      "https://www.coursera.org/browse/computer-science\n",
      "https://www.coursera.org/browse/data-science/data-analysis\n",
      "https://www.coursera.org/courses?query=digital%20marketing\n",
      "https://www.coursera.org/browse/information-technology\n",
      "https://www.coursera.org/browse/language-learning/learning-english\n",
      "https://www.coursera.org/browse/data-science/machine-learning\n",
      "https://www.coursera.org/courses?query=power%20bi\n",
      "https://www.coursera.org/courses?query=product%20management\n",
      "https://www.coursera.org/courses?query=project%20management\n",
      "https://www.coursera.org/courses?query=web%20development\n",
      "https://www.coursera.org/professional-certificates/google-advanced-data-analytics\n",
      "https://www.coursera.org/professional-certificates/google-business-intelligence\n",
      "https://www.coursera.org/professional-certificates/google-cybersecurity\n",
      "https://www.coursera.org/professional-certificates/google-data-analytics\n",
      "https://www.coursera.org/professional-certificates/google-digital-marketing-ecommerce\n",
      "https://www.coursera.org/professional-certificates/ai-engineer\n",
      "https://www.coursera.org/professional-certificates/ibm-data-analyst\n",
      "https://www.coursera.org/specializations/machine-learning-introduction\n",
      "https://www.coursera.org/professional-certificates/meta-back-end-developer\n",
      "https://www.coursera.org/professional-certificates/meta-front-end-developer\n",
      "https://www.coursera.org/articles/strengths-and-weaknesses-interview\n",
      "https://www.coursera.org/articles/high-income-skills\n",
      "https://www.coursera.org/articles/announce-new-job-linkedin\n",
      "https://www.coursera.org/articles/how-to-ask-for-a-letter-of-recommendation-template-tips\n",
      "https://www.coursera.org/articles/how-to-write-a-letter-of-recommendation-template-tips\n",
      "https://www.coursera.org/articles/job-application-email\n",
      "https://www.coursera.org/articles/popular-cybersecurity-certifications\n",
      "https://www.coursera.org/articles/4-ps-of-marketing\n",
      "https://www.coursera.org/articles/professional-development-goals\n",
      "https://www.coursera.org/articles/what-does-a-data-analyst-do-a-career-guide\n",
      "https://about.coursera.org/\n",
      "https://about.coursera.org/how-coursera-works/\n",
      "https://about.coursera.org/leadership\n",
      "https://careers.coursera.com/\n",
      "/browse\n",
      "/courseraplus\n",
      "/professional-certificate\n",
      "/mastertrack\n",
      "/degrees\n",
      "/business?utm_campaign=website&utm_content=corp-to-home-footer-for-enterprise&utm_medium=coursera&utm_source=enterprise\n",
      "/government?utm_campaign=website&utm_content=corp-to-home-footer-for-government&utm_medium=coursera&utm_source=enterprise\n",
      "/campus?utm_campaign=website&utm_content=corp-to-home-footer-for-campus&utm_medium=coursera&utm_source=enterprise\n",
      "https://partnerships.coursera.org/?utm_medium=coursera&utm_source=partnerships&utm_campaign=website&utm_content=corp-to-home-footer-become-a-partner\n",
      "https://www.coursera.support/s/article/360041137871-A-community-response-to-COVID-19\n",
      "https://www.coursera.org/courses?query=free\n",
      "https://www.coursera.org/courses\n",
      "https://www.coursera.community\n",
      "https://www.coursera.org/about/partners\n",
      "https://www.coursera.support/s/article/360000152926-Become-a-Coursera-beta-tester\n",
      "https://translate-coursera.org\n",
      "https://blog.coursera.org\n",
      "https://medium.com/coursera-engineering\n",
      "/teaching-center\n",
      "/about/press\n",
      "https://investor.coursera.com\n",
      "/about/terms\n",
      "/about/privacy\n",
      "https://learner.coursera.help/hc\n",
      "https://learner.coursera.help/hc/articles/360050668591-Accessibility-Statement\n",
      "/about/contact\n",
      "https://www.coursera.org/articles\n",
      "/directory\n",
      "https://about.coursera.org/affiliates\n",
      "https://coursera_assets.s3.amazonaws.com/footer/Modern+Slavery+Statement+26+April+2023.pdf\n",
      "https://itunes.apple.com/app/apple-store/id736535961?pt=2334150&ct=Coursera%20Web%20Promo%20Banner&mt=8\n",
      "http://play.google.com/store/apps/details?id=org.coursera.android\n",
      "https://www.facebook.com/Coursera\n",
      "https://www.linkedin.com/company/coursera\n",
      "https://twitter.com/coursera\n",
      "https://www.youtube.com/user/coursera\n",
      "https://www.instagram.com/coursera/\n",
      "https://www.tiktok.com/@coursera\n"
     ]
    }
   ],
   "source": [
    "import urllib\n",
    "from bs4 import BeautifulSoup\n",
    "\n",
    "url = 'https://www.coursera.org'\n",
    "html = urllib.request.urlopen(url).read() # Regresa el HTML, el cual leemos pero codificado\n",
    "soup = BeautifulSoup(html, 'html.parser') # Usa lo que acabamos de recibir y lo divide en partes HTML\n",
    "\n",
    "tags = soup('a') # Devuelve las etiquetas de tipo 'a'\n",
    "for tag in tags:\n",
    "    print(tag.get('href', None)) # Imprime todos los href dentro de las etiquetas 'a' que encontro\n",
    "        "
   ]
  }
 ],
 "metadata": {
  "kernelspec": {
   "display_name": "Python 3",
   "language": "python",
   "name": "python3"
  },
  "language_info": {
   "codemirror_mode": {
    "name": "ipython",
    "version": 3
   },
   "file_extension": ".py",
   "mimetype": "text/x-python",
   "name": "python",
   "nbconvert_exporter": "python",
   "pygments_lexer": "ipython3",
   "version": "3.8.8"
  },
  "orig_nbformat": 4
 },
 "nbformat": 4,
 "nbformat_minor": 2
}
