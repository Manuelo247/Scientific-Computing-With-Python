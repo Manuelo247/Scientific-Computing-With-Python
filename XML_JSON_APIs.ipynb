{
 "cells": [
  {
   "cell_type": "markdown",
   "metadata": {},
   "source": [
    "# XML"
   ]
  },
  {
   "cell_type": "markdown",
   "metadata": {},
   "source": [
    "## Libreria xml.etree.ElementTree"
   ]
  },
  {
   "cell_type": "markdown",
   "metadata": {},
   "source": [
    "Podemos usar la libreria xml.etree.ElementTree para lectura de **xml**, con este podremos buscar etiquetas y lo que hay guardadas en ellas"
   ]
  },
  {
   "cell_type": "code",
   "execution_count": 1,
   "metadata": {},
   "outputs": [
    {
     "name": "stdout",
     "output_type": "stream",
     "text": [
      "Name:  Chuck\n",
      "Attr:  yes\n"
     ]
    }
   ],
   "source": [
    "import xml.etree.ElementTree as ET\n",
    "\n",
    "data = '''<person>\n",
    "<name>Chuck</name>\n",
    "<phone type=\"intl\">\n",
    "+52 64 4212 2144\n",
    "</phone>\n",
    "<email hide=\"yes\"/>\n",
    "</person>'''\n",
    "\n",
    "tree = ET.fromstring(data) # Cargamos nuestro XML a una variable para la lectura de este \n",
    "print('Name: ', tree.find('name').text) # Buscamos la etiqueta Name y mostramos el texto que este guardando\n",
    "print('Attr: ', tree.find('email').get('hide')) # Buscamos la etiqueta Email y mostramos lo que este guardando en su atributo de Hide"
   ]
  },
  {
   "cell_type": "markdown",
   "metadata": {},
   "source": [
    "Tambien puedes tener elementos complejos, con estos elementos complejos puedes interactuar con sus elementos internos como si direcciones se tratase"
   ]
  },
  {
   "cell_type": "code",
   "execution_count": 2,
   "metadata": {},
   "outputs": [
    {
     "name": "stdout",
     "output_type": "stream",
     "text": [
      "Name:  Chuck\n",
      "showEmail:  yes\n",
      "Name:  Manu\n",
      "showEmail:  no\n"
     ]
    }
   ],
   "source": [
    "import xml.etree.ElementTree as ET\n",
    "\n",
    "data = '''<stuff>\n",
    "    <persons>\n",
    "        <person>\n",
    "            <name>Chuck</name>\n",
    "            <phone type=\"intl\">\n",
    "            +52 64 4456 5425\n",
    "            </phone>\n",
    "            <email hide=\"yes\"/>\n",
    "        </person>\n",
    "        <person>\n",
    "            <name>Manu</name>\n",
    "            <phone type=\"intl\">\n",
    "            +52 64 4212 2144\n",
    "            </phone>\n",
    "            <email hide=\"no\"/>\n",
    "        </person>\n",
    "    </persons>\n",
    "</stuff>'''\n",
    "\n",
    "tree = ET.fromstring(data) # Cargamos nuestro XML a una variable para la lectura de este \n",
    "persons = tree.findall('persons/person') # Buscamos la etiqueta person en persons y mostramos el texto que este guardando\n",
    "for person in persons:\n",
    "    print(\"Name: \", person.find('name').text)\n",
    "    print('showEmail: ', person.find('email').get('hide'))\n",
    "    "
   ]
  },
  {
   "cell_type": "markdown",
   "metadata": {},
   "source": [
    "# JSON"
   ]
  },
  {
   "cell_type": "markdown",
   "metadata": {},
   "source": [
    "## Libreria JSON"
   ]
  },
  {
   "cell_type": "code",
   "execution_count": 3,
   "metadata": {},
   "outputs": [
    {
     "name": "stdout",
     "output_type": "stream",
     "text": [
      "Name:  chuck\n",
      "Hide:  yes\n"
     ]
    }
   ],
   "source": [
    "import json\n",
    "data = '''{\n",
    "    \"name\" : \"chuck\",\n",
    "    \"phone\" : {\n",
    "        \"type\" : \"int1\",\n",
    "        \"number\" : \"+52 64 4456 5425\"\n",
    "    },\n",
    "    \"email\" : {\n",
    "        \"hide\" : \"yes\"\n",
    "    }\n",
    "}'''\n",
    "\n",
    "info = json.loads(data) # info es un diccionario\n",
    "print(\"Name: \", info[\"name\"])\n",
    "print(\"Hide: \", info[\"email\"][\"hide\"])"
   ]
  },
  {
   "cell_type": "markdown",
   "metadata": {},
   "source": [
    "## Lectura de APIs"
   ]
  },
  {
   "cell_type": "markdown",
   "metadata": {},
   "source": [
    "Ya sabiendo leer JSON podemos hacer lecturas que nos regresen las APIs como la de google maps, leyendolo en JSON"
   ]
  },
  {
   "cell_type": "code",
   "execution_count": 4,
   "metadata": {},
   "outputs": [],
   "source": [
    "import urllib\n",
    "import json\n",
    "\n",
    "\n",
    "api_key = 'http://maps.googleapis.com/maps/api/geocode/json?'\n",
    "\n",
    "while True:\n",
    "    direccion = input(\"Ingrese una dirección: \")\n",
    "    if len(direccion) < 1: break\n",
    "    \n",
    "    url = api_key + urllib.parse.urlencode({\"address\" : direccion})\n",
    "\n",
    "    print('Retriving:', url)\n",
    "    directionrequest = urllib.request.urlopen(url)\n",
    "    data = directionrequest.read().decode()\n",
    "    print('Retrieved', len(data), 'characters')\n",
    "    \n",
    "    try:\n",
    "        js = json.loads(data)\n",
    "    except:\n",
    "        js = None\n",
    "    \n",
    "    if not js or 'status' not in js or js['status'] != 'OK':\n",
    "        print('========Failure to retrive========')\n",
    "        print(data)\n",
    "        continue\n",
    "    \n",
    "    # Extrae la latitud y longitud del primer resultado\n",
    "    latitud = js[\"results\"][0]['geometry']['location']['lat']\n",
    "    longitud = js[\"results\"][0]['geometry']['location']['lng']\n",
    "\n",
    "    print(f\"Latitud: {latitud}\")\n",
    "    print(f\"Longitud: {longitud}\")\n",
    "    print(js[\"results\"][0]['formatted_address'])\n"
   ]
  }
 ],
 "metadata": {
  "kernelspec": {
   "display_name": "base",
   "language": "python",
   "name": "python3"
  },
  "language_info": {
   "codemirror_mode": {
    "name": "ipython",
    "version": 3
   },
   "file_extension": ".py",
   "mimetype": "text/x-python",
   "name": "python",
   "nbconvert_exporter": "python",
   "pygments_lexer": "ipython3",
   "version": "3.8.8"
  },
  "orig_nbformat": 4
 },
 "nbformat": 4,
 "nbformat_minor": 2
}
