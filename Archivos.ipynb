{
 "cells": [
  {
   "cell_type": "markdown",
   "metadata": {},
   "source": [
    "# Strings"
   ]
  },
  {
   "cell_type": "code",
   "execution_count": null,
   "metadata": {},
   "outputs": [],
   "source": []
  },
  {
   "cell_type": "markdown",
   "metadata": {},
   "source": [
    "Una string a pesar de ser un arreglo de caracteres este no puede conmutarse, lo que significa que tu no puedes darle una posicion a la string y querer cambiarlo por otro caracter, para eso tienes que crear otra variable pero que sea una lista"
   ]
  },
  {
   "cell_type": "code",
   "execution_count": null,
   "metadata": {},
   "outputs": [],
   "source": [
    "string = \"Banana\"\n",
    "string[0] = 'N'\n",
    "##Salida: Traceback\n",
    "##Salida: TypeError\n",
    "list(string)\n",
    "string[0] = 'N'\n",
    "print(string)\n",
    "##Salida: ['N', 'a', 'n', 'a', 'n', 'a']"
   ]
  },
  {
   "cell_type": "markdown",
   "metadata": {},
   "source": [
    "## Regular expression"
   ]
  },
  {
   "cell_type": "markdown",
   "metadata": {},
   "source": [
    "![Untitled](images/notion1.png)"
   ]
  },
  {
   "cell_type": "markdown",
   "metadata": {},
   "source": [
    "El ***^*** y ***$*** se refieren literalmente al inicio de la linea, no al inicio de la substring.  \n",
    "Al usar listas los caracteres se entienden de manera literal.  \n",
    "Si quieres usar caracteres como ***.*** sin usar su funcion de regular expression se colocara con una diagonal invertida de esta maneta ***\\\\\\.*** , tambien funciona con el dolar poniendolo como ***\\\\\\$***"
   ]
  },
  {
   "cell_type": "markdown",
   "metadata": {},
   "source": [
    "### Libreria en python"
   ]
  },
  {
   "cell_type": "markdown",
   "metadata": {},
   "source": [
    "Para importar la libreria usaremos import re, en ella tendremos la funcion .search, que servira como el .find de las strings pero donde podremos usar las regular expressions, en la siguiente se veran funciones equivalentes"
   ]
  },
  {
   "cell_type": "code",
   "execution_count": 2,
   "metadata": {},
   "outputs": [
    {
     "data": {
      "text/plain": [
       "True"
      ]
     },
     "execution_count": 2,
     "metadata": {},
     "output_type": "execute_result"
    }
   ],
   "source": [
    "import re\n",
    "\n",
    "line = 'From: manuelo@hotmail.com'\n",
    "\n",
    "re.search('From: ', line)\n",
    "line.find('From: ')\n",
    "\n",
    "re.search('^From: ', line)\n",
    "line.startswith('From: ')\n",
    "\n",
    "re.search('com$', line)\n",
    "line.endswith('com')"
   ]
  },
  {
   "cell_type": "markdown",
   "metadata": {},
   "source": [
    "### Ejemplos de uso"
   ]
  },
  {
   "cell_type": "markdown",
   "metadata": {},
   "source": [
    "![Untitled](images/notion2.png)"
   ]
  },
  {
   "cell_type": "markdown",
   "metadata": {},
   "source": [
    "![Untitled](images/notion3.png)"
   ]
  },
  {
   "cell_type": "markdown",
   "metadata": {},
   "source": [
    "![Untitled](images/notion4.png)"
   ]
  },
  {
   "cell_type": "markdown",
   "metadata": {},
   "source": [
    "![Untitled](images/notion5.png)"
   ]
  },
  {
   "cell_type": "markdown",
   "metadata": {},
   "source": [
    "![Untitled](images/notion6.png)"
   ]
  },
  {
   "cell_type": "markdown",
   "metadata": {},
   "source": [
    "El asunto con el Greedy es que si puede coincidir con varias sub-string escogera la mas larga"
   ]
  },
  {
   "cell_type": "markdown",
   "metadata": {},
   "source": [
    "![Untitled](images/notion7.png)"
   ]
  },
  {
   "cell_type": "markdown",
   "metadata": {},
   "source": [
    "Agregas un ? a los caracteres de repeticion hace que no se vuelvan greedy escoja la sub-string mas corta que encuentre "
   ]
  },
  {
   "cell_type": "markdown",
   "metadata": {},
   "source": [
    "![Untitled](images/notion8.png)"
   ]
  },
  {
   "cell_type": "markdown",
   "metadata": {},
   "source": [
    "![Untitled](images/notion9.png)"
   ]
  },
  {
   "cell_type": "markdown",
   "metadata": {},
   "source": [
    "Si colocamos parentesis buscaremos un match pero solo extraeremos lo que se encuentra dentro de ellos"
   ]
  },
  {
   "cell_type": "markdown",
   "metadata": {},
   "source": [
    "![Untitled](images/notion10.png)"
   ]
  },
  {
   "cell_type": "markdown",
   "metadata": {},
   "source": [
    "![Untitled](images/notion11.png)"
   ]
  }
 ],
 "metadata": {
  "kernelspec": {
   "display_name": "Python 3",
   "language": "python",
   "name": "python3"
  },
  "language_info": {
   "codemirror_mode": {
    "name": "ipython",
    "version": 3
   },
   "file_extension": ".py",
   "mimetype": "text/x-python",
   "name": "python",
   "nbconvert_exporter": "python",
   "pygments_lexer": "ipython3",
   "version": "3.9.13"
  }
 },
 "nbformat": 4,
 "nbformat_minor": 2
}
