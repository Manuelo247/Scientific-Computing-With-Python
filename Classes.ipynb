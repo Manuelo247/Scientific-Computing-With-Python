{
 "cells": [
  {
   "cell_type": "markdown",
   "metadata": {},
   "source": [
    "# Class"
   ]
  },
  {
   "cell_type": "markdown",
   "metadata": {},
   "source": [
    "## inicializar"
   ]
  },
  {
   "cell_type": "markdown",
   "metadata": {},
   "source": [
    "Aqui podemos ver una clase muy basica, en donde definimos un atributo y dos funciones\n",
    "\n",
    "Para que el metodo que esta dentro de nuestra clase pueda leer y escribir en sus mismos atributos se necesita agregar el parametro **self**, de esta manera vamos a poder acceder a cada uno de estos atributos o a otros metodos. Este **self** no contara como parametro al querer usar la funcion en un objeto"
   ]
  },
  {
   "cell_type": "code",
   "execution_count": 37,
   "metadata": {},
   "outputs": [
    {
     "name": "stdout",
     "output_type": "stream",
     "text": [
      "<class '__main__.clase3'>\n",
      "['__class__', '__delattr__', '__dict__', '__dir__', '__doc__', '__eq__', '__format__', '__ge__', '__getattribute__', '__gt__', '__hash__', '__init__', '__init_subclass__', '__le__', '__lt__', '__module__', '__ne__', '__new__', '__reduce__', '__reduce_ex__', '__repr__', '__setattr__', '__sizeof__', '__str__', '__subclasshook__', '__weakref__', 'atributo', 'aumentarAtributo', 'getAtributo']\n",
      "3\n"
     ]
    }
   ],
   "source": [
    "class clase1:\n",
    "    atributo = 0\n",
    "    \n",
    "    def aumentarAtributo(self):\n",
    "        self.atributo = self.atributo + 1\n",
    "    \n",
    "    def getAtributo(self):\n",
    "        return self.atributo\n",
    "    \n",
    "objeto1 = clase1()\n",
    "\n",
    "print(type(objeto))\n",
    "print(dir(objeto))\n",
    "\n",
    "objeto.aumentarAtributo()\n",
    "print(objeto.getAtributo())"
   ]
  },
  {
   "cell_type": "markdown",
   "metadata": {},
   "source": [
    "## Metodos especiales"
   ]
  },
  {
   "cell_type": "markdown",
   "metadata": {},
   "source": [
    "### Constructores y destructores"
   ]
  },
  {
   "cell_type": "markdown",
   "metadata": {},
   "source": [
    "En el siguiente codigo podemos ver como agregar nuestros propios constructores y destructores, los constructores se definirar como **\\_\\_init__** y los destructores como **_\\_del__**"
   ]
  },
  {
   "cell_type": "markdown",
   "metadata": {},
   "source": [
    "Es importante aclarar que todas tus variables tienes que declararlas en el costructor o las direcciones de estas estaran compartidas entre todas las estancias de esta misma clase, por lo que tendras el mismo valor en todos los objetos definidos por esa clase"
   ]
  },
  {
   "cell_type": "code",
   "execution_count": 40,
   "metadata": {},
   "outputs": [
    {
     "name": "stdout",
     "output_type": "stream",
     "text": [
      "Soy el constructor\n",
      "Fui destruido\n",
      "3\n"
     ]
    }
   ],
   "source": [
    "class clase2:\n",
    "    def __init__(self):\n",
    "        print(\"Soy el constructor\")\n",
    "        self.atributo = 0\n",
    "    \n",
    "    def aumentarAtributo(self):\n",
    "        self.atributo = self.atributo + 1\n",
    "    \n",
    "    def getAtributo(self):\n",
    "        return self.atributo\n",
    "    \n",
    "    def __del__(self):\n",
    "        print(\"Fui destruido\")\n",
    "    \n",
    "objeto2 = clase2()\n",
    "\n",
    "print(objeto.getAtributo())"
   ]
  },
  {
   "cell_type": "markdown",
   "metadata": {},
   "source": [
    "### Funcion de impresion"
   ]
  },
  {
   "cell_type": "markdown",
   "metadata": {},
   "source": [
    "Hay una manera de definir que quieres que imprima tu clase en el caso de que alguien lo use dentro de un print, eso es con el metodo **\\__str__**"
   ]
  },
  {
   "cell_type": "code",
   "execution_count": 41,
   "metadata": {},
   "outputs": [
    {
     "name": "stdout",
     "output_type": "stream",
     "text": [
      "Soy el __self__ y tu atributo es: 0\n"
     ]
    }
   ],
   "source": [
    "class clase3:\n",
    "    def __init__(self):\n",
    "        self.atributo = 0\n",
    "        \n",
    "    def __str__(self):\n",
    "        return \"Soy el __self__ y tu atributo es: \" + str(self.atributo)\n",
    "    \n",
    "    def aumentarAtributo(self):\n",
    "        self.atributo = self.atributo + 1\n",
    "    \n",
    "    def getAtributo(self):\n",
    "        return self.atributo\n",
    "    \n",
    "objeto3 = clase3()\n",
    "\n",
    "print(objeto3)"
   ]
  },
  {
   "cell_type": "markdown",
   "metadata": {},
   "source": [
    "## Herencia"
   ]
  },
  {
   "cell_type": "markdown",
   "metadata": {},
   "source": [
    "Para aplicar herencia solo necesitamos agregar la clase padre como \"parametro\" de la clase hijo, asi heredara todo lo que esta tenga, ademas de los metodos y atributos que le agreguemos a este"
   ]
  },
  {
   "cell_type": "code",
   "execution_count": 42,
   "metadata": {},
   "outputs": [
    {
     "name": "stdout",
     "output_type": "stream",
     "text": [
      "0\n",
      "10\n"
     ]
    }
   ],
   "source": [
    "class claseHijo(clase):\n",
    "    atributoHijo = 10\n",
    "    \n",
    "    def aumentarAtributoHijo(self):\n",
    "        self.atributoHijo = self.atributoHijo + 1\n",
    "        \n",
    "    def getAtributoHijo(self):\n",
    "        return self.atributoHijo\n",
    "    \n",
    "objetoHijo = claseHijo()\n",
    "\n",
    "print(objetoHijo.getAtributo())\n",
    "print(objetoHijo.getAtributoHijo())"
   ]
  }
 ],
 "metadata": {
  "kernelspec": {
   "display_name": "base",
   "language": "python",
   "name": "python3"
  },
  "language_info": {
   "codemirror_mode": {
    "name": "ipython",
    "version": 3
   },
   "file_extension": ".py",
   "mimetype": "text/x-python",
   "name": "python",
   "nbconvert_exporter": "python",
   "pygments_lexer": "ipython3",
   "version": "3.8.8"
  },
  "orig_nbformat": 4
 },
 "nbformat": 4,
 "nbformat_minor": 2
}
