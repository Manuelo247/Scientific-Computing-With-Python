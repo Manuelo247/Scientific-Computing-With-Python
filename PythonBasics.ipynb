{
 "cells": [
  {
   "cell_type": "markdown",
   "metadata": {},
   "source": [
    "### Tuples"
   ]
  },
  {
   "cell_type": "markdown",
   "metadata": {},
   "source": [
    "Los tuples se asignas con los parentesis ()"
   ]
  },
  {
   "cell_type": "code",
   "execution_count": 1,
   "metadata": {},
   "outputs": [
    {
     "name": "stdout",
     "output_type": "stream",
     "text": [
      "() ()\n"
     ]
    }
   ],
   "source": [
    "tuples = tuple()\n",
    "tuples2 = ()\n",
    "print(tuples, tuples2)"
   ]
  },
  {
   "cell_type": "markdown",
   "metadata": {},
   "source": [
    "Los tuples son inmutables, no se pueden modificar apartir de escoger una direccion en ellos"
   ]
  },
  {
   "cell_type": "code",
   "execution_count": 10,
   "metadata": {},
   "outputs": [
    {
     "ename": "TypeError",
     "evalue": "'tuple' object does not support item assignment",
     "output_type": "error",
     "traceback": [
      "\u001b[1;31m---------------------------------------------------------------------------\u001b[0m",
      "\u001b[1;31mTypeError\u001b[0m                                 Traceback (most recent call last)",
      "\u001b[1;32mc:\\Users\\manue\\Documents\\Programacion\\Python\\Scientific Computing With Python\\PythonBasics.ipynb Celda 5\u001b[0m line \u001b[0;36m2\n\u001b[0;32m      <a href='vscode-notebook-cell:/c%3A/Users/manue/Documents/Programacion/Python/Scientific%20Computing%20With%20Python/PythonBasics.ipynb#X35sZmlsZQ%3D%3D?line=0'>1</a>\u001b[0m x \u001b[39m=\u001b[39m (\u001b[39m1\u001b[39m, \u001b[39m2\u001b[39m, \u001b[39m3\u001b[39m)\n\u001b[1;32m----> <a href='vscode-notebook-cell:/c%3A/Users/manue/Documents/Programacion/Python/Scientific%20Computing%20With%20Python/PythonBasics.ipynb#X35sZmlsZQ%3D%3D?line=1'>2</a>\u001b[0m x[\u001b[39m1\u001b[39;49m] \u001b[39m=\u001b[39m \u001b[39m2\u001b[39m\n",
      "\u001b[1;31mTypeError\u001b[0m: 'tuple' object does not support item assignment"
     ]
    }
   ],
   "source": [
    "x = (1, 2, 3)\n",
    "x[1] = 2"
   ]
  },
  {
   "cell_type": "markdown",
   "metadata": {},
   "source": [
    "Los tuples soportan que puedas asignarlos a multiples variables al igualarlas"
   ]
  },
  {
   "cell_type": "code",
   "execution_count": 11,
   "metadata": {},
   "outputs": [
    {
     "name": "stdout",
     "output_type": "stream",
     "text": [
      "(1, 2, 3)\n",
      "1 2 3\n"
     ]
    }
   ],
   "source": [
    "x = (1, 2, 3)\n",
    "a, b, c = x\n",
    "print(x)\n",
    "print(a, b, c)"
   ]
  },
  {
   "cell_type": "markdown",
   "metadata": {},
   "source": [
    "### Try-except"
   ]
  },
  {
   "cell_type": "markdown",
   "metadata": {},
   "source": [
    "Se usara al momento de que haya alguna seccion de codigo volatil que no podamos asegurar que no vaya a dar algun error "
   ]
  },
  {
   "cell_type": "code",
   "execution_count": 2,
   "metadata": {},
   "outputs": [
    {
     "name": "stdout",
     "output_type": "stream",
     "text": [
      "Comprobando que es un numero...\n",
      "No es un numero\n"
     ]
    }
   ],
   "source": [
    "astr = 'Bob'\n",
    "try:\n",
    "\tprint('Comprobando que es un numero...')\n",
    "\tistr = int(astr) \n",
    " \t# En el caso de que no sea un numero esto regresaria un error, \n",
    " \t# pero al usar try-except solo te mandara a la seccion de except\n",
    "\tprint('Es un numero')\n",
    " \n",
    "except:\n",
    "\tprint('No es un numero')\n",
    "    "
   ]
  },
  {
   "cell_type": "markdown",
   "metadata": {},
   "source": [
    "### Arrays"
   ]
  },
  {
   "cell_type": "markdown",
   "metadata": {},
   "source": [
    "#### Posiciones en arrays"
   ]
  },
  {
   "cell_type": "markdown",
   "metadata": {},
   "source": [
    "Cuando ponemos las posiciones en arreglos, si queremos escoger un sub-arreglo podremos colocar 2 numero que representan las posiciones separados por dos puntos, el primer numero sera la primera posicion y el segundo sera la ultima posicion, pero sin incluir a esta"
   ]
  },
  {
   "cell_type": "code",
   "execution_count": 3,
   "metadata": {},
   "outputs": [
    {
     "name": "stdout",
     "output_type": "stream",
     "text": [
      "Mont\n"
     ]
    }
   ],
   "source": [
    "array = \"Monty Python\"\n",
    "print(array[0:4])"
   ]
  },
  {
   "cell_type": "markdown",
   "metadata": {},
   "source": [
    "Si usamos la misma estructura pero sin poner nada en el primer numero el arreglo entendera que es desde la primera posicion hasta la posicion que hace referencia el segundo numero"
   ]
  },
  {
   "cell_type": "code",
   "execution_count": 4,
   "metadata": {},
   "outputs": [
    {
     "name": "stdout",
     "output_type": "stream",
     "text": [
      "Monty\n"
     ]
    }
   ],
   "source": [
    "array = \"Monty Python\"\n",
    "print(array[:5])"
   ]
  },
  {
   "cell_type": "markdown",
   "metadata": {},
   "source": [
    "Si lo hacemos pero ahora omitiendo el segundo entendera que es hasta finalizar el arreglo"
   ]
  },
  {
   "cell_type": "code",
   "execution_count": 5,
   "metadata": {},
   "outputs": [
    {
     "name": "stdout",
     "output_type": "stream",
     "text": [
      "Python\n"
     ]
    }
   ],
   "source": [
    "array = \"Monty Python\"\n",
    "print(array[6:])"
   ]
  },
  {
   "cell_type": "markdown",
   "metadata": {},
   "source": [
    "Terminando, si lo hacemos pero omitiendo los dos numeros imprimira todo el arreglo, lo que es equivalente a poner el arreglo sin la posiciones especificadas"
   ]
  },
  {
   "cell_type": "code",
   "execution_count": 6,
   "metadata": {},
   "outputs": [
    {
     "name": "stdout",
     "output_type": "stream",
     "text": [
      "Monty Python\n",
      "Monty Python\n"
     ]
    }
   ],
   "source": [
    "array = \"Monty Python\"\n",
    "print(array[:])\n",
    "print(array)"
   ]
  },
  {
   "cell_type": "markdown",
   "metadata": {},
   "source": [
    "### Funciones"
   ]
  },
  {
   "cell_type": "markdown",
   "metadata": {},
   "source": [
    "Podemos definir nuestra funcion de la siguiente manera: \n",
    "Donde podemos agregar parametros tantos queramos tener nuestra seccion de codigo.\n",
    "Retornar un valor o valores, aunque tambien podremos no retornar nada.\n",
    "Podremos tener parametros opcionales, lo cuales tendremos que asignarles un valor predefinido"
   ]
  },
  {
   "cell_type": "code",
   "execution_count": 7,
   "metadata": {},
   "outputs": [],
   "source": [
    "def funcion(parametro1, parametro2, parametroopcional = 0):\n",
    "    print(\"soy una funcion\")\n",
    "    print(\"A tus parametros se le ha sumado uno\")\n",
    "    return parametro1 + 1, parametro2 + 1, parametroopcional + 1"
   ]
  },
  {
   "cell_type": "markdown",
   "metadata": {},
   "source": [
    "### Consideraciones"
   ]
  },
  {
   "cell_type": "markdown",
   "metadata": {},
   "source": [
    "#### 0 == 0.0 y 0 is 0.0"
   ]
  },
  {
   "cell_type": "markdown",
   "metadata": {},
   "source": [
    "Hay una diferencia entre el is y el ==, la diferencia radica que el is es mas exigente ya que exije que sea el mismo en cuanto a valor como a tipo de variable, en cambio el == solo verifica que el valor sea el mismo"
   ]
  },
  {
   "cell_type": "code",
   "execution_count": 8,
   "metadata": {},
   "outputs": [
    {
     "name": "stdout",
     "output_type": "stream",
     "text": [
      "True\n",
      "False\n"
     ]
    },
    {
     "name": "stderr",
     "output_type": "stream",
     "text": [
      "<>:2: SyntaxWarning: \"is\" with a literal. Did you mean \"==\"?\n",
      "<>:2: SyntaxWarning: \"is\" with a literal. Did you mean \"==\"?\n",
      "C:\\Users\\manue\\AppData\\Local\\Temp\\ipykernel_7104\\1610275105.py:2: SyntaxWarning: \"is\" with a literal. Did you mean \"==\"?\n",
      "  print(0 is 0.0)\n"
     ]
    }
   ],
   "source": [
    "print(0 == 0.0) \n",
    "print(0 is 0.0)"
   ]
  },
  {
   "cell_type": "markdown",
   "metadata": {},
   "source": [
    "#### Diferencia de **in** en un for y en un array\n",
    "Hay diferencias cuando usamos la palabra reservada ******in****** dentro de un for y fuera de el.\n",
    "Cuando lo usamos dentro esta actua como el iterador que guarda el valor de la posicion actual del arreglo.\n",
    "Cuando lo usamos fuera funciona como una funcion que busca si esta el valor dentro de nuestro arreglo, regresando un valor booleano"
   ]
  },
  {
   "cell_type": "code",
   "execution_count": 9,
   "metadata": {},
   "outputs": [
    {
     "name": "stdout",
     "output_type": "stream",
     "text": [
      "1\n",
      "2\n",
      "\n",
      "False\n"
     ]
    }
   ],
   "source": [
    "for i in [1, 2]:\n",
    "\tprint(i)\n",
    "\n",
    "print()\n",
    "\n",
    "i = 3\n",
    "print(i in [1, 2])"
   ]
  }
 ],
 "metadata": {
  "kernelspec": {
   "display_name": "Python 3",
   "language": "python",
   "name": "python3"
  },
  "language_info": {
   "codemirror_mode": {
    "name": "ipython",
    "version": 3
   },
   "file_extension": ".py",
   "mimetype": "text/x-python",
   "name": "python",
   "nbconvert_exporter": "python",
   "pygments_lexer": "ipython3",
   "version": "3.9.13"
  },
  "orig_nbformat": 4
 },
 "nbformat": 4,
 "nbformat_minor": 2
}
