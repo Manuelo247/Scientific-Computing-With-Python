{
 "cells": [
  {
   "cell_type": "markdown",
   "metadata": {},
   "source": [
    "# XML"
   ]
  },
  {
   "cell_type": "markdown",
   "metadata": {},
   "source": [
    "## Libreria xml.etree.ElementTree"
   ]
  },
  {
   "cell_type": "markdown",
   "metadata": {},
   "source": [
    "Podemos usar la libreria xml.etree.ElementTree para lectura de **xml**, con este podremos buscar etiquetas y lo que hay guardadas en ellas"
   ]
  },
  {
   "cell_type": "code",
   "execution_count": 13,
   "metadata": {},
   "outputs": [
    {
     "name": "stdout",
     "output_type": "stream",
     "text": [
      "Name:  Chuck\n",
      "Attr:  yes\n"
     ]
    }
   ],
   "source": [
    "import xml.etree.ElementTree as ET\n",
    "\n",
    "data = '''<person>\n",
    "<name>Chuck</name>\n",
    "<phone type=\"intl\">\n",
    "+52 64 4212 2144\n",
    "</phone>\n",
    "<email hide=\"yes\"/>\n",
    "</person>'''\n",
    "\n",
    "tree = ET.fromstring(data) # Cargamos nuestro XML a una variable para la lectura de este \n",
    "print('Name: ', tree.find('name').text) # Buscamos la etiqueta Name y mostramos el texto que este guardando\n",
    "print('Attr: ', tree.find('email').get('hide')) # Buscamos la etiqueta Email y mostramos lo que este guardando en su atributo de Hide"
   ]
  },
  {
   "cell_type": "markdown",
   "metadata": {},
   "source": [
    "Tambien puedes tener elementos complejos, con estos elementos complejos puedes interactuar con sus elementos internos como si direcciones se tratase"
   ]
  },
  {
   "cell_type": "code",
   "execution_count": 14,
   "metadata": {},
   "outputs": [
    {
     "name": "stdout",
     "output_type": "stream",
     "text": [
      "Name:  Chuck\n",
      "showEmail:  yes\n",
      "Name:  Manu\n",
      "showEmail:  no\n"
     ]
    }
   ],
   "source": [
    "import xml.etree.ElementTree as ET\n",
    "\n",
    "data = '''<stuff>\n",
    "    <persons>\n",
    "        <person>\n",
    "            <name>Chuck</name>\n",
    "            <phone type=\"intl\">\n",
    "            +52 64 4456 5425\n",
    "            </phone>\n",
    "            <email hide=\"yes\"/>\n",
    "        </person>\n",
    "        <person>\n",
    "            <name>Manu</name>\n",
    "            <phone type=\"intl\">\n",
    "            +52 64 4212 2144\n",
    "            </phone>\n",
    "            <email hide=\"no\"/>\n",
    "        </person>\n",
    "    </persons>\n",
    "</stuff>'''\n",
    "\n",
    "tree = ET.fromstring(data) # Cargamos nuestro XML a una variable para la lectura de este \n",
    "persons = tree.findall('persons/person') # Buscamos la etiqueta person en persons y mostramos el texto que este guardando\n",
    "for person in persons:\n",
    "    print(\"Name: \", person.find('name').text)\n",
    "    print('showEmail: ', person.find('email').get('hide'))\n",
    "    "
   ]
  }
 ],
 "metadata": {
  "kernelspec": {
   "display_name": "base",
   "language": "python",
   "name": "python3"
  },
  "language_info": {
   "codemirror_mode": {
    "name": "ipython",
    "version": 3
   },
   "file_extension": ".py",
   "mimetype": "text/x-python",
   "name": "python",
   "nbconvert_exporter": "python",
   "pygments_lexer": "ipython3",
   "version": "3.8.8"
  },
  "orig_nbformat": 4
 },
 "nbformat": 4,
 "nbformat_minor": 2
}
