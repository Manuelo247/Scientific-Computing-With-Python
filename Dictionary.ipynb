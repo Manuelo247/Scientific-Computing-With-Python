{
 "cells": [
  {
   "cell_type": "markdown",
   "metadata": {},
   "source": [
    "# Dictionarys\n"
   ]
  },
  {
   "cell_type": "markdown",
   "metadata": {},
   "source": [
    "El dictionary es un conjunto de datos, cada uno con su propio identificador, ya sea un numero o una string"
   ]
  },
  {
   "cell_type": "markdown",
   "metadata": {},
   "source": [
    "Aqui podemos ver las funciones que contiene un dictionary"
   ]
  },
  {
   "cell_type": "code",
   "execution_count": 23,
   "metadata": {},
   "outputs": [
    {
     "name": "stdout",
     "output_type": "stream",
     "text": [
      "['__class__', '__class_getitem__', '__contains__', '__delattr__', '__delitem__', '__dir__', '__doc__', '__eq__', '__format__', '__ge__', '__getattribute__', '__getitem__', '__gt__', '__hash__', '__init__', '__init_subclass__', '__ior__', '__iter__', '__le__', '__len__', '__lt__', '__ne__', '__new__', '__or__', '__reduce__', '__reduce_ex__', '__repr__', '__reversed__', '__ror__', '__setattr__', '__setitem__', '__sizeof__', '__str__', '__subclasshook__', 'clear', 'copy', 'fromkeys', 'get', 'items', 'keys', 'pop', 'popitem', 'setdefault', 'update', 'values'] \n",
      "\n"
     ]
    }
   ],
   "source": [
    "dictionary = dict()\n",
    "print(dir(dictionary), '\\n')"
   ]
  },
  {
   "cell_type": "markdown",
   "metadata": {},
   "source": [
    "Los diccionarios se pueden definir con **{}** o con su tipo de variable **dict()**"
   ]
  },
  {
   "cell_type": "code",
   "execution_count": 24,
   "metadata": {},
   "outputs": [
    {
     "name": "stdout",
     "output_type": "stream",
     "text": [
      "{} {}\n"
     ]
    }
   ],
   "source": [
    "dictionary = dict()\n",
    "dictionary2 = {}\n",
    "\n",
    "print(dictionary, dictionary2)"
   ]
  },
  {
   "cell_type": "markdown",
   "metadata": {},
   "source": [
    "Puedes ver la diferencia de impresiones segun como usamos el **dictionary**.  \n",
    "En la primera podemos ver como imprime la estructura con todo y datos.  \n",
    "En la segunda podemos ver como imprime los datos que contiene ligado al identificador que le damos."
   ]
  },
  {
   "cell_type": "code",
   "execution_count": 25,
   "metadata": {},
   "outputs": [
    {
     "name": "stdout",
     "output_type": "stream",
     "text": [
      "{'money': 12, 'candy': 5} 12\n"
     ]
    }
   ],
   "source": [
    "dictionary['money'] = 12\n",
    "dictionary['candy'] = 5\n",
    "\n",
    "print(dictionary, dictionary['money'])"
   ]
  },
  {
   "cell_type": "markdown",
   "metadata": {},
   "source": [
    "Aqui utilizamos la funcion **get**, en ella le daremos nuestro identificador y devolvera el valor asignado a ese.  \n",
    "En el caso que no contenga nada devolvera lo que hayamos colocado en nuestro segundo parametro."
   ]
  },
  {
   "cell_type": "code",
   "execution_count": 26,
   "metadata": {},
   "outputs": [
    {
     "name": "stdout",
     "output_type": "stream",
     "text": [
      "{'money': 12, 'candy': 5}\n",
      "False True\n",
      "0 5\n"
     ]
    }
   ],
   "source": [
    "print(dictionary)\n",
    "print('sugar' in dictionary, 'candy' in dictionary)\n",
    "\n",
    "x = dictionary.get('sugar', 0)\n",
    "y = dictionary.get('candy', 0)\n",
    "\n",
    "print(x, y)"
   ]
  },
  {
   "cell_type": "markdown",
   "metadata": {},
   "source": [
    "En esta seccion de codigo vemos una implementacion del codigo donde usamos **get** para verificar que los valores que queremos agregar dentro de nuestro Dictionary esten en el, en el caso de que no este se inicializara dentro de el."
   ]
  },
  {
   "cell_type": "code",
   "execution_count": 27,
   "metadata": {},
   "outputs": [
    {
     "name": "stdout",
     "output_type": "stream",
     "text": [
      "{'money': 12, 'candy': 5}\n",
      "{'money': 13, 'candy': 6, 'sugar': 1, 'melon': 1}\n"
     ]
    }
   ],
   "source": [
    "print(dictionary)\n",
    "\n",
    "names = ['sugar', 'candy', 'melon', 'money']\n",
    "for name in names:\n",
    "\tdictionary[name] = dictionary.get(name, 0) + 1\n",
    "print(dictionary)"
   ]
  },
  {
   "cell_type": "markdown",
   "metadata": {},
   "source": [
    "Aqui vemos un acceso simple a los datos de nuestro **Dictionary** usando **tuples**"
   ]
  },
  {
   "cell_type": "code",
   "execution_count": 28,
   "metadata": {},
   "outputs": [
    {
     "name": "stdout",
     "output_type": "stream",
     "text": [
      "money 13\n",
      "candy 6\n",
      "sugar 1\n",
      "melon 1\n"
     ]
    }
   ],
   "source": [
    "for itemkey, valuekey in dictionary.items():\n",
    "    print(itemkey, valuekey)"
   ]
  }
 ],
 "metadata": {
  "kernelspec": {
   "display_name": "Python 3",
   "language": "python",
   "name": "python3"
  },
  "language_info": {
   "codemirror_mode": {
    "name": "ipython",
    "version": 3
   },
   "file_extension": ".py",
   "mimetype": "text/x-python",
   "name": "python",
   "nbconvert_exporter": "python",
   "pygments_lexer": "ipython3",
   "version": "3.9.13"
  },
  "orig_nbformat": 4
 },
 "nbformat": 4,
 "nbformat_minor": 2
}
